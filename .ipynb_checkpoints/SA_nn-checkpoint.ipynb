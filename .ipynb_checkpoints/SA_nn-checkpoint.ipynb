{
 "cells": [
  {
   "cell_type": "code",
   "execution_count": 1,
   "id": "cdc17f87-24c1-476c-95c4-63fa883b48b7",
   "metadata": {},
   "outputs": [
    {
     "name": "stderr",
     "output_type": "stream",
     "text": [
      "[nltk_data] Downloading package punkt to\n",
      "[nltk_data]     /Users/ronaldchow/nltk_data...\n",
      "[nltk_data]   Package punkt is already up-to-date!\n",
      "[nltk_data] Downloading package stopwords to\n",
      "[nltk_data]     /Users/ronaldchow/nltk_data...\n",
      "[nltk_data]   Package stopwords is already up-to-date!\n"
     ]
    }
   ],
   "source": [
    "import torch \n",
    "import torch.nn.functional as F\n",
    "import matplotlib.pyplot as plt\n",
    "import pandas as pd\n",
    "import re\n",
    "import nltk\n",
    "nltk.download('punkt')\n",
    "import nltk.corpus\n",
    "nltk.download('stopwords')\n",
    "from nltk.corpus import stopwords\n",
    "from nltk.tokenize import word_tokenize \n",
    "from nltk.tokenize import sent_tokenize\n",
    "%matplotlib inline"
   ]
  },
  {
   "cell_type": "code",
   "execution_count": 2,
   "id": "6076118f-1032-4b5f-8913-978abc6c407d",
   "metadata": {},
   "outputs": [],
   "source": [
    "test = pd.read_csv(\"Corona_NLP_test.csv\", encoding='latin-1')\n",
    "train = pd.read_csv(\"Corona_NLP_train.csv\", encoding='latin-1')"
   ]
  },
  {
   "cell_type": "code",
   "execution_count": 3,
   "id": "ee6bcf1a-78aa-4d64-a9f4-e619ff6805e7",
   "metadata": {},
   "outputs": [],
   "source": [
    "train_con = []\n",
    "for i in train['Sentiment']:\n",
    "    if i == 'Neutral': i = 2\n",
    "    elif i == 'Positive': i = 3\n",
    "    elif i == 'Extremely Positive': i = 4\n",
    "    elif i == 'Negative': i = 1\n",
    "    elif i == 'Extremely Negative': i = 0\n",
    "    train_con.append(i)\n",
    "    \n",
    "test_con = []\n",
    "for i in test['Sentiment']:\n",
    "    if i == 'Neutral': i = 2\n",
    "    elif i == 'Positive': i = 3\n",
    "    elif i == 'Extremely Positive': i = 4\n",
    "    elif i == 'Negative': i = 1\n",
    "    elif i == 'Extremely Negative': i = 0\n",
    "    test_con.append(i)\n",
    "    \n",
    "train_con = torch.tensor(train_con)\n",
    "test_con = torch.tensor(test_con)"
   ]
  },
  {
   "cell_type": "code",
   "execution_count": 4,
   "id": "d20a4027-86d0-4107-a630-103267e8591c",
   "metadata": {},
   "outputs": [
    {
     "data": {
      "text/plain": [
       "(torch.Size([41157]), torch.Size([3798]))"
      ]
     },
     "execution_count": 4,
     "metadata": {},
     "output_type": "execute_result"
    }
   ],
   "source": [
    "train_con.shape, test_con.shape"
   ]
  },
  {
   "cell_type": "code",
   "execution_count": 5,
   "id": "31509991-0962-4673-a035-65e74c3752c1",
   "metadata": {},
   "outputs": [],
   "source": [
    "train_oh = F.one_hot(train_con, num_classes = 5).float()\n",
    "test_oh = F.one_hot(test_con, num_classes = 5).float()"
   ]
  },
  {
   "cell_type": "code",
   "execution_count": 6,
   "id": "18edb7eb-bcc5-44a4-8e0b-14a2b15b2cfc",
   "metadata": {},
   "outputs": [
    {
     "data": {
      "text/plain": [
       "tensor([[0., 0., 1., 0., 0.],\n",
       "        [0., 0., 0., 1., 0.],\n",
       "        [0., 0., 0., 1., 0.],\n",
       "        ...,\n",
       "        [0., 0., 0., 1., 0.],\n",
       "        [0., 0., 1., 0., 0.],\n",
       "        [0., 1., 0., 0., 0.]])"
      ]
     },
     "execution_count": 6,
     "metadata": {},
     "output_type": "execute_result"
    }
   ],
   "source": [
    "train_oh"
   ]
  },
  {
   "cell_type": "code",
   "execution_count": 7,
   "id": "2ff6adc4-986f-428f-b916-e1ff67840981",
   "metadata": {},
   "outputs": [
    {
     "data": {
      "text/plain": [
       "<matplotlib.image.AxesImage at 0x7fc0555ad670>"
      ]
     },
     "execution_count": 7,
     "metadata": {},
     "output_type": "execute_result"
    },
    {
     "data": {
      "image/png": "[encoded data removed]",
      "text/plain": [
       "<Figure size 640x480 with 1 Axes>"
      ]
     },
     "metadata": {},
     "output_type": "display_data"
    }
   ],
   "source": [
    "plt.imshow(train_oh[:100], aspect = 'auto', cmap = 'Blues')"
   ]
  },
  {
   "cell_type": "code",
   "execution_count": 8,
   "id": "c34a15c4-e368-40d7-8972-738edb941a9b",
   "metadata": {},
   "outputs": [],
   "source": [
    "sentences = []\n",
    "tokens = []\n",
    "stop = stopwords.words('english')\n",
    "\n",
    "for t in train['OriginalTweet']:\n",
    "    t = t.lower()\n",
    "    t = re.sub(r\"(@\\[A-Za-z0-9]+)|([^0-9A-Za-z \\t])|(\\w+:\\/\\/\\S+)|^rt|http.+?\", \"\", t)\n",
    "    t = \" \".join([word for word in t.split() if word not in (stop)])\n",
    "    sentences.append(t)\n",
    "    \n",
    "for sentence in sentences:\n",
    "    token = word_tokenize(sentence)\n",
    "    tokens.append(token)"
   ]
  },
  {
   "cell_type": "code",
   "execution_count": 9,
   "id": "b234a375-74c1-4f05-bfd1-f0c8e3f8d38f",
   "metadata": {},
   "outputs": [],
   "source": [
    "from english_words import get_english_words_set\n",
    "web2 = get_english_words_set(['web2'], alpha = True, lower = True)\n",
    "web2 = sorted(web2)"
   ]
  },
  {
   "cell_type": "code",
   "execution_count": 10,
   "id": "8094dca8-bf44-4789-9296-74007cfec104",
   "metadata": {},
   "outputs": [],
   "source": [
    "wtoi = {s:i+1 for i,s in enumerate(web2)}\n",
    "wtoi['_'] = 0\n",
    "itow = {i:s for s,i in wtoi.items()}"
   ]
  },
  {
   "cell_type": "code",
   "execution_count": 11,
   "id": "1595558e-8462-4a36-a808-e9d6c13a1620",
   "metadata": {},
   "outputs": [],
   "source": [
    "Full = []\n",
    "\n",
    "for line in tokens:\n",
    "    w = len(line)\n",
    "    Indexed = []\n",
    "    for word in line:\n",
    "        if word in wtoi:\n",
    "            ix = wtoi[word]\n",
    "        else:\n",
    "            ix = 0\n",
    "        Indexed.append(ix)\n",
    "    Full.append(Indexed)"
   ]
  },
  {
   "cell_type": "code",
   "execution_count": 12,
   "id": "31bad2f8-2eb3-46ba-bb92-9221299a998c",
   "metadata": {},
   "outputs": [],
   "source": [
    "length = []\n",
    "for n in tokens:\n",
    "    l = len(n)\n",
    "    length.append(l)\n",
    "    \n",
    "pad_length = max(length)"
   ]
  },
  {
   "cell_type": "code",
   "execution_count": 13,
   "id": "47fd372d-dd8c-4817-8ac8-9296c6c323bd",
   "metadata": {},
   "outputs": [],
   "source": [
    "for entry in Full:\n",
    "    pad_0s = pad_length - len(entry)\n",
    "    for i in range(0,pad_0s):\n",
    "        entry.append(0)"
   ]
  },
  {
   "cell_type": "code",
   "execution_count": 14,
   "id": "57e04a3e-5d4a-4a44-b497-fadb18608577",
   "metadata": {},
   "outputs": [
    {
     "data": {
      "text/plain": [
       "tensor([[     0,      0,      0,  ...,      0,      0,      0],\n",
       "        [ 27818, 200653,      0,  ...,      0,      0,      0],\n",
       "        [     0,      0,      0,  ...,      0,      0,      0],\n",
       "        ...,\n",
       "        [115548,  93016, 207008,  ...,      0,      0,      0],\n",
       "        [234325, 187437,  97398,  ...,      0,      0,      0],\n",
       "        [     0, 232056,      0,  ...,      0,      0,      0]])"
      ]
     },
     "execution_count": 14,
     "metadata": {},
     "output_type": "execute_result"
    }
   ],
   "source": [
    "Full = torch.tensor(Full)\n",
    "Full"
   ]
  },
  {
   "cell_type": "code",
   "execution_count": 15,
   "id": "e713dbb2-33b2-41c8-8d97-5fc8ce50513a",
   "metadata": {},
   "outputs": [
    {
     "data": {
      "text/plain": [
       "torch.Size([41157, 45])"
      ]
     },
     "execution_count": 15,
     "metadata": {},
     "output_type": "execute_result"
    }
   ],
   "source": [
    "Full.shape"
   ]
  },
  {
   "cell_type": "code",
   "execution_count": 16,
   "id": "77943c77-33b6-49a4-a8db-6f7006a01804",
   "metadata": {},
   "outputs": [
    {
     "data": {
      "text/plain": [
       "<matplotlib.image.AxesImage at 0x7fc05dfff2b0>"
      ]
     },
     "execution_count": 16,
     "metadata": {},
     "output_type": "execute_result"
    },
    {
     "data": {
      "image/png": "[encoded data removed]",
      "text/plain": [
       "<Figure size 640x480 with 1 Axes>"
      ]
     },
     "metadata": {},
     "output_type": "display_data"
    }
   ],
   "source": [
    "plt.imshow(Full[:100], cmap = 'Blues')"
   ]
  },
  {
   "cell_type": "code",
   "execution_count": 17,
   "id": "31c66f87-3ca0-4cea-a037-000f9c54ec2d",
   "metadata": {},
   "outputs": [],
   "source": [
    "import torch\n",
    "import torch.nn as nn\n",
    "\n",
    "class SentimentRNN(nn.Module):\n",
    "    def __init__(self, input_size, hidden_size, output_size):\n",
    "        super(SentimentRNN, self).__init__()\n",
    "        self.hidden_size = hidden_size\n",
    "        self.rnn = nn.RNN(input_size, hidden_size, batch_first=True)\n",
    "        self.fc = nn.Linear(hidden_size, output_size)\n",
    "        \n",
    "    def forward(self, x):\n",
    "        # Initialize hidden state with zeros\n",
    "        h0 = torch.zeros(1, x.size(0), self.hidden_size).to(x.device)\n",
    "        \n",
    "        # Forward propagate RNN\n",
    "        out, _ = self.rnn(x, h0)\n",
    "        \n",
    "        # Decode hidden state of last time step\n",
    "        out = self.fc(out[:, -1, :])\n",
    "        return out"
   ]
  },
  {
   "cell_type": "code",
   "execution_count": 24,
   "id": "8ab48ded-1d88-4456-bf7d-fe2f210b2884",
   "metadata": {},
   "outputs": [],
   "source": [
    "input_size = 45\n",
    "hidden_size = 45\n",
    "output_size = 5\n",
    "\n",
    "model = SentimentRNN(input_size = input_size, hidden_size = hidden_size, output_size = output_size)"
   ]
  },
  {
   "cell_type": "code",
   "execution_count": 25,
   "id": "9a3ba473-6ff2-4358-8815-f37701bc31da",
   "metadata": {},
   "outputs": [
    {
     "name": "stdout",
     "output_type": "stream",
     "text": [
      "['Neutral', 'Neutral']\n"
     ]
    }
   ],
   "source": [
    "with torch.no_grad():\n",
    "\n",
    "    batch_size = 32  # choose an appropriate batch size\n",
    "    num_layers = 2\n",
    "    num_directions = 1\n",
    "    x_batched = torch.stack([Full] * batch_size)  # create a batched version of the input\n",
    "    hx_batched = torch.zeros(num_layers*num_directions, batch_size, hidden_size)  # initialize the hidden state tensor for the batch\n",
    "    outputs = model(hx_batched)\n",
    "    scores = torch.sigmoid(outputs.squeeze())\n",
    "    predictions = torch.argmax(scores, dim=1)\n",
    "    label_map = ['Extremely Negative', 'Negative', 'Neutral', 'Positive', 'Extremelely Positive']\n",
    "    predictions = [label_map[idx] for idx in predictions]\n",
    "    print(predictions)"
   ]
  },
  {
   "cell_type": "code",
   "execution_count": null,
   "id": "4ce6ff00-a405-4fb3-baf3-1e0b171dcb75",
   "metadata": {},
   "outputs": [],
   "source": [
    "#rerun previous step"
   ]
  },
  {
   "cell_type": "code",
   "execution_count": 26,
   "id": "acd78a74-73c8-4cef-9cc0-969513d749c3",
   "metadata": {},
   "outputs": [
    {
     "data": {
      "text/plain": [
       "['Neutral', 'Neutral']"
      ]
     },
     "execution_count": 26,
     "metadata": {},
     "output_type": "execute_result"
    }
   ],
   "source": [
    "predictions"
   ]
  },
  {
   "cell_type": "code",
   "execution_count": null,
   "id": "3cab07c6-0429-42e8-8225-7f836e0b93d9",
   "metadata": {},
   "outputs": [],
   "source": []
  }
 ],
 "metadata": {
  "kernelspec": {
   "display_name": "Python 3 (ipykernel)",
   "language": "python",
   "name": "python3"
  },
  "language_info": {
   "codemirror_mode": {
    "name": "ipython",
    "version": 3
   },
   "file_extension": ".py",
   "mimetype": "text/x-python",
   "name": "python",
   "nbconvert_exporter": "python",
   "pygments_lexer": "ipython3",
   "version": "3.9.13"
  },
  "vscode": {
   "interpreter": {
    "hash": "aee8b7b246df8f9039afb4144a1f6fd8d2ca17a180786b69acc140d282b71a49"
   }
  }
 },
 "nbformat": 4,
 "nbformat_minor": 5
}
