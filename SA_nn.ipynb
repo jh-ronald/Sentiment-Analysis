{
 "cells": [
  {
   "cell_type": "code",
   "execution_count": 7,
   "id": "cdc17f87-24c1-476c-95c4-63fa883b48b7",
   "metadata": {},
   "outputs": [],
   "source": [
    "import torch \n",
    "import torch.nn.functional as F\n",
    "import matplotlib.pyplot as plt\n",
    "import pandas as pd\n",
    "%matplotlib inline"
   ]
  },
  {
   "cell_type": "code",
   "execution_count": 9,
   "id": "6076118f-1032-4b5f-8913-978abc6c407d",
   "metadata": {},
   "outputs": [],
   "source": [
    "test = pd.read_csv(\"Corona_NLP_test.csv\", encoding='latin-1')\n",
    "train = pd.read_csv(\"Corona_NLP_train.csv\", encoding='latin-1')"
   ]
  },
  {
   "cell_type": "code",
   "execution_count": 36,
   "id": "ee6bcf1a-78aa-4d64-a9f4-e619ff6805e7",
   "metadata": {},
   "outputs": [],
   "source": [
    "train_con = []\n",
    "for i in train['Sentiment']:\n",
    "    if i == 'Neutral': i = 2\n",
    "    elif i == 'Positive': i = 3\n",
    "    elif i == 'Extremely Positive': i = 4\n",
    "    elif i == 'Negative': i = 1\n",
    "    elif i == 'Extremely Negative': i = 0\n",
    "    train_con.append(i)\n",
    "    \n",
    "test_con = []\n",
    "for i in test['Sentiment']:\n",
    "    if i == 'Neutral': i = 2\n",
    "    elif i == 'Positive': i = 3\n",
    "    elif i == 'Extremely Positive': i = 4\n",
    "    elif i == 'Negative': i = 1\n",
    "    elif i == 'Extremely Negative': i = 0\n",
    "    test_con.append(i)\n",
    "    \n",
    "train_con = torch.tensor(train_con)\n",
    "test_con = torch.tensor(test_con)"
   ]
  },
  {
   "cell_type": "code",
   "execution_count": 37,
   "id": "d20a4027-86d0-4107-a630-103267e8591c",
   "metadata": {},
   "outputs": [
    {
     "data": {
      "text/plain": [
       "(torch.Size([41157]), torch.Size([3798]))"
      ]
     },
     "execution_count": 37,
     "metadata": {},
     "output_type": "execute_result"
    }
   ],
   "source": [
    "train_con.shape, test_con.shape"
   ]
  },
  {
   "cell_type": "code",
   "execution_count": 48,
   "id": "31509991-0962-4673-a035-65e74c3752c1",
   "metadata": {},
   "outputs": [],
   "source": [
    "train_oh = F.one_hot(train_con, num_classes = 5).float()\n",
    "test_oh = F.one_hot(test_con, num_classes = 5).float()"
   ]
  },
  {
   "cell_type": "code",
   "execution_count": 49,
   "id": "18edb7eb-bcc5-44a4-8e0b-14a2b15b2cfc",
   "metadata": {},
   "outputs": [
    {
     "data": {
      "text/plain": [
       "tensor([[0., 0., 1., 0., 0.],\n",
       "        [0., 0., 0., 1., 0.],\n",
       "        [0., 0., 0., 1., 0.],\n",
       "        ...,\n",
       "        [0., 0., 0., 1., 0.],\n",
       "        [0., 0., 1., 0., 0.],\n",
       "        [0., 1., 0., 0., 0.]])"
      ]
     },
     "execution_count": 49,
     "metadata": {},
     "output_type": "execute_result"
    }
   ],
   "source": [
    "train_oh"
   ]
  },
  {
   "cell_type": "code",
   "execution_count": 58,
   "id": "2ff6adc4-986f-428f-b916-e1ff67840981",
   "metadata": {},
   "outputs": [
    {
     "data": {
      "text/plain": [
       "<matplotlib.image.AxesImage at 0x7fbbfd426850>"
      ]
     },
     "execution_count": 58,
     "metadata": {},
     "output_type": "execute_result"
    },
    {
     "data": {
      "image/png": "[encoded data removed]",
      "text/plain": [
       "<Figure size 640x480 with 1 Axes>"
      ]
     },
     "metadata": {},
     "output_type": "display_data"
    }
   ],
   "source": [
    "plt.imshow(train_oh[:100], aspect = 'auto')"
   ]
  },
  {
   "cell_type": "code",
   "execution_count": 95,
   "id": "ab5fadc0-265c-4f07-8b1c-f7f804a11109",
   "metadata": {},
   "outputs": [],
   "source": [
    "# Initialize Network\n",
    "g = torch.Generator().manual_seed(2147)\n",
    "W = torch.randn((5, 100), generator=g, requires_grad=True)\n",
    "y = torch.randint(0,4,(41157,))"
   ]
  },
  {
   "cell_type": "code",
   "execution_count": 96,
   "id": "8865f146-40c7-40e7-8a65-a8d1c06a2a75",
   "metadata": {},
   "outputs": [],
   "source": [
    "stepi = []\n",
    "lossi = []\n",
    "\n",
    "# Gradient Descent\n",
    "for k in range(100):\n",
    "  \n",
    "  # Forward Pass\n",
    "  train_oh = F.one_hot(train_con, num_classes = 5).float() # One-hot encoding\n",
    "  logits = train_oh @ W \n",
    "  counts = logits.exp()\n",
    "  probs = counts / counts.sum(1, keepdims=True) # Here I assumed the sentiments are interrelated...when it's clearly not -_- how fun\n",
    "  loss = -probs[torch.arange(41157), y].log().mean() + 0.01*(W**2).mean()\n",
    "  \n",
    "  # Backpropagation\n",
    "  W.grad = None # Set gradient back to zero\n",
    "  loss.backward()\n",
    "  \n",
    "  # Update\n",
    "  W.data += -12 * W.grad  \n",
    "\n",
    "  stepi.append(k)\n",
    "  lossi.append(loss.item())"
   ]
  },
  {
   "cell_type": "code",
   "execution_count": 97,
   "id": "216c21bd-5cc0-41af-8caa-d18c72c03e8e",
   "metadata": {},
   "outputs": [
    {
     "data": {
      "text/plain": [
       "[<matplotlib.lines.Line2D at 0x7fbbfce9dfd0>]"
      ]
     },
     "execution_count": 97,
     "metadata": {},
     "output_type": "execute_result"
    },
    {
     "data": {
      "image/png": "[encoded data removed]",
      "text/plain": [
       "<Figure size 640x480 with 1 Axes>"
      ]
     },
     "metadata": {},
     "output_type": "display_data"
    }
   ],
   "source": [
    "plt.plot(stepi, lossi)"
   ]
  },
  {
   "cell_type": "code",
   "execution_count": null,
   "id": "4ce6ff00-a405-4fb3-baf3-1e0b171dcb75",
   "metadata": {},
   "outputs": [],
   "source": []
  }
 ],
 "metadata": {
  "kernelspec": {
   "display_name": "Python 3 (ipykernel)",
   "language": "python",
   "name": "python3"
  },
  "language_info": {
   "codemirror_mode": {
    "name": "ipython",
    "version": 3
   },
   "file_extension": ".py",
   "mimetype": "text/x-python",
   "name": "python",
   "nbconvert_exporter": "python",
   "pygments_lexer": "ipython3",
   "version": "3.9.13"
  }
 },
 "nbformat": 4,
 "nbformat_minor": 5
}
